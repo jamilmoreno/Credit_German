{
 "cells": [
  {
   "cell_type": "markdown",
   "id": "be845431",
   "metadata": {},
   "source": [
    "### LOANPURPOSE"
   ]
  },
  {
   "cell_type": "code",
   "execution_count": 1,
   "id": "8123fad1",
   "metadata": {},
   "outputs": [],
   "source": [
    "# Importando Librerias\n",
    "import pandas as pd\n",
    "import matplotlib.pyplot as plt\n",
    "import seaborn as sns\n",
    "%matplotlib inline\n",
    "import statistics\n",
    "import statsmodels.api as sm\n",
    "import seaborn as sns"
   ]
  },
  {
   "cell_type": "code",
   "execution_count": 2,
   "id": "4d90c11f",
   "metadata": {},
   "outputs": [
    {
     "data": {
      "text/html": [
       "<div>\n",
       "<style scoped>\n",
       "    .dataframe tbody tr th:only-of-type {\n",
       "        vertical-align: middle;\n",
       "    }\n",
       "\n",
       "    .dataframe tbody tr th {\n",
       "        vertical-align: top;\n",
       "    }\n",
       "\n",
       "    .dataframe thead th {\n",
       "        text-align: right;\n",
       "    }\n",
       "</style>\n",
       "<table border=\"1\" class=\"dataframe\">\n",
       "  <thead>\n",
       "    <tr style=\"text-align: right;\">\n",
       "      <th></th>\n",
       "      <th>CUSTOMERID</th>\n",
       "      <th>CHECKINGSTATUS</th>\n",
       "      <th>LOANDURATION</th>\n",
       "      <th>CREDITHISTORY</th>\n",
       "      <th>LOANPURPOSE</th>\n",
       "      <th>LOANAMOUNT</th>\n",
       "      <th>EXISTINGSAVINGS</th>\n",
       "      <th>EMPLOYMENTDURATION</th>\n",
       "      <th>INSTALLMENTPERCENT</th>\n",
       "      <th>SEX</th>\n",
       "      <th>...</th>\n",
       "      <th>OWNSPROPERTY</th>\n",
       "      <th>AGE</th>\n",
       "      <th>INSTALLMENTPLANS</th>\n",
       "      <th>HOUSING</th>\n",
       "      <th>EXISTINGCREDITSCOUNT</th>\n",
       "      <th>JOB</th>\n",
       "      <th>DEPENDENTS</th>\n",
       "      <th>TELEPHONE</th>\n",
       "      <th>FOREIGNWORKER</th>\n",
       "      <th>RISK</th>\n",
       "    </tr>\n",
       "  </thead>\n",
       "  <tbody>\n",
       "    <tr>\n",
       "      <th>0</th>\n",
       "      <td>713a336c-a255-4e2d-9d57-90b3e99e2f06</td>\n",
       "      <td>0_to_200</td>\n",
       "      <td>31</td>\n",
       "      <td>credits_paid_to_date</td>\n",
       "      <td>other</td>\n",
       "      <td>1889</td>\n",
       "      <td>100_to_500</td>\n",
       "      <td>less_1</td>\n",
       "      <td>3</td>\n",
       "      <td>female</td>\n",
       "      <td>...</td>\n",
       "      <td>savings_insurance</td>\n",
       "      <td>32</td>\n",
       "      <td>none</td>\n",
       "      <td>own</td>\n",
       "      <td>1</td>\n",
       "      <td>skilled</td>\n",
       "      <td>1</td>\n",
       "      <td>none</td>\n",
       "      <td>yes</td>\n",
       "      <td>No Risk</td>\n",
       "    </tr>\n",
       "    <tr>\n",
       "      <th>1</th>\n",
       "      <td>140b363f-a3fe-4828-a33f-7284dfdb3969</td>\n",
       "      <td>less_0</td>\n",
       "      <td>18</td>\n",
       "      <td>credits_paid_to_date</td>\n",
       "      <td>car_new</td>\n",
       "      <td>462</td>\n",
       "      <td>less_100</td>\n",
       "      <td>1_to_4</td>\n",
       "      <td>2</td>\n",
       "      <td>female</td>\n",
       "      <td>...</td>\n",
       "      <td>savings_insurance</td>\n",
       "      <td>37</td>\n",
       "      <td>stores</td>\n",
       "      <td>own</td>\n",
       "      <td>2</td>\n",
       "      <td>skilled</td>\n",
       "      <td>1</td>\n",
       "      <td>none</td>\n",
       "      <td>yes</td>\n",
       "      <td>No Risk</td>\n",
       "    </tr>\n",
       "    <tr>\n",
       "      <th>2</th>\n",
       "      <td>43b7b51d-5eda-4860-b461-ebef3d3436f4</td>\n",
       "      <td>less_0</td>\n",
       "      <td>15</td>\n",
       "      <td>prior_payments_delayed</td>\n",
       "      <td>furniture</td>\n",
       "      <td>250</td>\n",
       "      <td>less_100</td>\n",
       "      <td>1_to_4</td>\n",
       "      <td>2</td>\n",
       "      <td>male</td>\n",
       "      <td>...</td>\n",
       "      <td>real_estate</td>\n",
       "      <td>28</td>\n",
       "      <td>none</td>\n",
       "      <td>own</td>\n",
       "      <td>2</td>\n",
       "      <td>skilled</td>\n",
       "      <td>1</td>\n",
       "      <td>yes</td>\n",
       "      <td>no</td>\n",
       "      <td>No Risk</td>\n",
       "    </tr>\n",
       "    <tr>\n",
       "      <th>3</th>\n",
       "      <td>f40eaf08-e6d1-4765-ab20-c5f7faca1635</td>\n",
       "      <td>0_to_200</td>\n",
       "      <td>28</td>\n",
       "      <td>credits_paid_to_date</td>\n",
       "      <td>retraining</td>\n",
       "      <td>3693</td>\n",
       "      <td>less_100</td>\n",
       "      <td>greater_7</td>\n",
       "      <td>3</td>\n",
       "      <td>male</td>\n",
       "      <td>...</td>\n",
       "      <td>savings_insurance</td>\n",
       "      <td>32</td>\n",
       "      <td>none</td>\n",
       "      <td>own</td>\n",
       "      <td>1</td>\n",
       "      <td>skilled</td>\n",
       "      <td>1</td>\n",
       "      <td>none</td>\n",
       "      <td>yes</td>\n",
       "      <td>No Risk</td>\n",
       "    </tr>\n",
       "    <tr>\n",
       "      <th>4</th>\n",
       "      <td>1728910a-d3ff-4799-ac50-203a3a58a3fb</td>\n",
       "      <td>no_checking</td>\n",
       "      <td>28</td>\n",
       "      <td>prior_payments_delayed</td>\n",
       "      <td>education</td>\n",
       "      <td>6235</td>\n",
       "      <td>500_to_1000</td>\n",
       "      <td>greater_7</td>\n",
       "      <td>3</td>\n",
       "      <td>male</td>\n",
       "      <td>...</td>\n",
       "      <td>unknown</td>\n",
       "      <td>57</td>\n",
       "      <td>none</td>\n",
       "      <td>own</td>\n",
       "      <td>2</td>\n",
       "      <td>skilled</td>\n",
       "      <td>1</td>\n",
       "      <td>none</td>\n",
       "      <td>yes</td>\n",
       "      <td>Risk</td>\n",
       "    </tr>\n",
       "    <tr>\n",
       "      <th>...</th>\n",
       "      <td>...</td>\n",
       "      <td>...</td>\n",
       "      <td>...</td>\n",
       "      <td>...</td>\n",
       "      <td>...</td>\n",
       "      <td>...</td>\n",
       "      <td>...</td>\n",
       "      <td>...</td>\n",
       "      <td>...</td>\n",
       "      <td>...</td>\n",
       "      <td>...</td>\n",
       "      <td>...</td>\n",
       "      <td>...</td>\n",
       "      <td>...</td>\n",
       "      <td>...</td>\n",
       "      <td>...</td>\n",
       "      <td>...</td>\n",
       "      <td>...</td>\n",
       "      <td>...</td>\n",
       "      <td>...</td>\n",
       "      <td>...</td>\n",
       "    </tr>\n",
       "    <tr>\n",
       "      <th>4995</th>\n",
       "      <td>e77fa77b-78da-4607-a2fa-ede36c1e968f</td>\n",
       "      <td>greater_200</td>\n",
       "      <td>27</td>\n",
       "      <td>credits_paid_to_date</td>\n",
       "      <td>furniture</td>\n",
       "      <td>4650</td>\n",
       "      <td>less_100</td>\n",
       "      <td>1_to_4</td>\n",
       "      <td>3</td>\n",
       "      <td>male</td>\n",
       "      <td>...</td>\n",
       "      <td>savings_insurance</td>\n",
       "      <td>40</td>\n",
       "      <td>none</td>\n",
       "      <td>own</td>\n",
       "      <td>1</td>\n",
       "      <td>skilled</td>\n",
       "      <td>1</td>\n",
       "      <td>none</td>\n",
       "      <td>yes</td>\n",
       "      <td>No Risk</td>\n",
       "    </tr>\n",
       "    <tr>\n",
       "      <th>4996</th>\n",
       "      <td>6e71db4b-375c-42e1-b4a8-3292c007967a</td>\n",
       "      <td>0_to_200</td>\n",
       "      <td>11</td>\n",
       "      <td>prior_payments_delayed</td>\n",
       "      <td>furniture</td>\n",
       "      <td>250</td>\n",
       "      <td>greater_1000</td>\n",
       "      <td>4_to_7</td>\n",
       "      <td>3</td>\n",
       "      <td>male</td>\n",
       "      <td>...</td>\n",
       "      <td>car_other</td>\n",
       "      <td>32</td>\n",
       "      <td>bank</td>\n",
       "      <td>own</td>\n",
       "      <td>1</td>\n",
       "      <td>unemployed</td>\n",
       "      <td>1</td>\n",
       "      <td>none</td>\n",
       "      <td>yes</td>\n",
       "      <td>No Risk</td>\n",
       "    </tr>\n",
       "    <tr>\n",
       "      <th>4997</th>\n",
       "      <td>db501d22-e0c9-4f38-bf05-7f2c1df35395</td>\n",
       "      <td>no_checking</td>\n",
       "      <td>32</td>\n",
       "      <td>outstanding_credit</td>\n",
       "      <td>appliances</td>\n",
       "      <td>6536</td>\n",
       "      <td>unknown</td>\n",
       "      <td>greater_7</td>\n",
       "      <td>5</td>\n",
       "      <td>male</td>\n",
       "      <td>...</td>\n",
       "      <td>unknown</td>\n",
       "      <td>54</td>\n",
       "      <td>stores</td>\n",
       "      <td>own</td>\n",
       "      <td>2</td>\n",
       "      <td>unskilled</td>\n",
       "      <td>2</td>\n",
       "      <td>yes</td>\n",
       "      <td>yes</td>\n",
       "      <td>Risk</td>\n",
       "    </tr>\n",
       "    <tr>\n",
       "      <th>4998</th>\n",
       "      <td>802055d6-6aa7-4532-bf1c-0b8b114b483d</td>\n",
       "      <td>0_to_200</td>\n",
       "      <td>38</td>\n",
       "      <td>outstanding_credit</td>\n",
       "      <td>other</td>\n",
       "      <td>1597</td>\n",
       "      <td>500_to_1000</td>\n",
       "      <td>greater_7</td>\n",
       "      <td>3</td>\n",
       "      <td>female</td>\n",
       "      <td>...</td>\n",
       "      <td>savings_insurance</td>\n",
       "      <td>27</td>\n",
       "      <td>stores</td>\n",
       "      <td>own</td>\n",
       "      <td>1</td>\n",
       "      <td>skilled</td>\n",
       "      <td>1</td>\n",
       "      <td>none</td>\n",
       "      <td>yes</td>\n",
       "      <td>Risk</td>\n",
       "    </tr>\n",
       "    <tr>\n",
       "      <th>4999</th>\n",
       "      <td>53094239-82f4-4b14-b2e9-7a0355a10839</td>\n",
       "      <td>less_0</td>\n",
       "      <td>12</td>\n",
       "      <td>all_credits_paid_back</td>\n",
       "      <td>car_new</td>\n",
       "      <td>4152</td>\n",
       "      <td>less_100</td>\n",
       "      <td>1_to_4</td>\n",
       "      <td>2</td>\n",
       "      <td>male</td>\n",
       "      <td>...</td>\n",
       "      <td>savings_insurance</td>\n",
       "      <td>29</td>\n",
       "      <td>none</td>\n",
       "      <td>own</td>\n",
       "      <td>2</td>\n",
       "      <td>skilled</td>\n",
       "      <td>1</td>\n",
       "      <td>none</td>\n",
       "      <td>yes</td>\n",
       "      <td>No Risk</td>\n",
       "    </tr>\n",
       "  </tbody>\n",
       "</table>\n",
       "<p>5000 rows × 22 columns</p>\n",
       "</div>"
      ],
      "text/plain": [
       "                                CUSTOMERID CHECKINGSTATUS  LOANDURATION  \\\n",
       "0     713a336c-a255-4e2d-9d57-90b3e99e2f06       0_to_200            31   \n",
       "1     140b363f-a3fe-4828-a33f-7284dfdb3969         less_0            18   \n",
       "2     43b7b51d-5eda-4860-b461-ebef3d3436f4         less_0            15   \n",
       "3     f40eaf08-e6d1-4765-ab20-c5f7faca1635       0_to_200            28   \n",
       "4     1728910a-d3ff-4799-ac50-203a3a58a3fb    no_checking            28   \n",
       "...                                    ...            ...           ...   \n",
       "4995  e77fa77b-78da-4607-a2fa-ede36c1e968f    greater_200            27   \n",
       "4996  6e71db4b-375c-42e1-b4a8-3292c007967a       0_to_200            11   \n",
       "4997  db501d22-e0c9-4f38-bf05-7f2c1df35395    no_checking            32   \n",
       "4998  802055d6-6aa7-4532-bf1c-0b8b114b483d       0_to_200            38   \n",
       "4999  53094239-82f4-4b14-b2e9-7a0355a10839         less_0            12   \n",
       "\n",
       "               CREDITHISTORY LOANPURPOSE  LOANAMOUNT EXISTINGSAVINGS  \\\n",
       "0       credits_paid_to_date       other        1889      100_to_500   \n",
       "1       credits_paid_to_date     car_new         462        less_100   \n",
       "2     prior_payments_delayed   furniture         250        less_100   \n",
       "3       credits_paid_to_date  retraining        3693        less_100   \n",
       "4     prior_payments_delayed   education        6235     500_to_1000   \n",
       "...                      ...         ...         ...             ...   \n",
       "4995    credits_paid_to_date   furniture        4650        less_100   \n",
       "4996  prior_payments_delayed   furniture         250    greater_1000   \n",
       "4997      outstanding_credit  appliances        6536         unknown   \n",
       "4998      outstanding_credit       other        1597     500_to_1000   \n",
       "4999   all_credits_paid_back     car_new        4152        less_100   \n",
       "\n",
       "     EMPLOYMENTDURATION  INSTALLMENTPERCENT     SEX  ...       OWNSPROPERTY  \\\n",
       "0                less_1                   3  female  ...  savings_insurance   \n",
       "1                1_to_4                   2  female  ...  savings_insurance   \n",
       "2                1_to_4                   2    male  ...        real_estate   \n",
       "3             greater_7                   3    male  ...  savings_insurance   \n",
       "4             greater_7                   3    male  ...            unknown   \n",
       "...                 ...                 ...     ...  ...                ...   \n",
       "4995             1_to_4                   3    male  ...  savings_insurance   \n",
       "4996             4_to_7                   3    male  ...          car_other   \n",
       "4997          greater_7                   5    male  ...            unknown   \n",
       "4998          greater_7                   3  female  ...  savings_insurance   \n",
       "4999             1_to_4                   2    male  ...  savings_insurance   \n",
       "\n",
       "      AGE INSTALLMENTPLANS  HOUSING EXISTINGCREDITSCOUNT         JOB  \\\n",
       "0      32             none      own                    1     skilled   \n",
       "1      37           stores      own                    2     skilled   \n",
       "2      28             none      own                    2     skilled   \n",
       "3      32             none      own                    1     skilled   \n",
       "4      57             none      own                    2     skilled   \n",
       "...   ...              ...      ...                  ...         ...   \n",
       "4995   40             none      own                    1     skilled   \n",
       "4996   32             bank      own                    1  unemployed   \n",
       "4997   54           stores      own                    2   unskilled   \n",
       "4998   27           stores      own                    1     skilled   \n",
       "4999   29             none      own                    2     skilled   \n",
       "\n",
       "      DEPENDENTS TELEPHONE  FOREIGNWORKER     RISK  \n",
       "0              1      none            yes  No Risk  \n",
       "1              1      none            yes  No Risk  \n",
       "2              1       yes             no  No Risk  \n",
       "3              1      none            yes  No Risk  \n",
       "4              1      none            yes     Risk  \n",
       "...          ...       ...            ...      ...  \n",
       "4995           1      none            yes  No Risk  \n",
       "4996           1      none            yes  No Risk  \n",
       "4997           2       yes            yes     Risk  \n",
       "4998           1      none            yes     Risk  \n",
       "4999           1      none            yes  No Risk  \n",
       "\n",
       "[5000 rows x 22 columns]"
      ]
     },
     "execution_count": 2,
     "metadata": {},
     "output_type": "execute_result"
    }
   ],
   "source": [
    "# Importado Data set\n",
    "data = pd.read_excel(\"german_credit_data.xlsx\")\n",
    "data"
   ]
  },
  {
   "cell_type": "code",
   "execution_count": 3,
   "id": "31fe5e78",
   "metadata": {},
   "outputs": [
    {
     "data": {
      "image/png": "[encoded data removed]",
      "text/plain": [
       "<Figure size 720x360 with 1 Axes>"
      ]
     },
     "metadata": {
      "needs_background": "light"
     },
     "output_type": "display_data"
    }
   ],
   "source": [
    "sns.displot(data[\"LOANPURPOSE\"], aspect=2)\n",
    "plt.title(\"Finalidad de Préstamo\")\n",
    "\n",
    "plt.ylabel(\"N° Observaciones\")\n",
    "plt.show()\n"
   ]
  },
  {
   "cell_type": "code",
   "execution_count": 4,
   "id": "456d0d9d",
   "metadata": {},
   "outputs": [
    {
     "data": {
      "text/plain": [
       "count        5000\n",
       "unique         11\n",
       "top       car_new\n",
       "freq          945\n",
       "Name: LOANPURPOSE, dtype: object"
      ]
     },
     "execution_count": 4,
     "metadata": {},
     "output_type": "execute_result"
    }
   ],
   "source": [
    "data[\"LOANPURPOSE\"].describe()"
   ]
  },
  {
   "cell_type": "raw",
   "id": "f2e48018",
   "metadata": {},
   "source": [
    "width = 0.35   \n",
    "\n",
    "fig, ax = plt.subplots()\n",
    "\n",
    "ax.bar(labels, men_means, width, yerr=men_std, label='Men')\n",
    "ax.bar(labels, women_means, width, yerr=women_std, bottom=men_means,\n",
    "       label='Women')\n",
    "\n",
    "ax.set_ylabel('Scores')\n",
    "ax.set_title('Scores by group and gender')\n",
    "ax.legend()\n",
    "\n",
    "plt.show()\n"
   ]
  },
  {
   "cell_type": "code",
   "execution_count": 5,
   "id": "d9ee49cd",
   "metadata": {},
   "outputs": [
    {
     "data": {
      "image/png": "[encoded data removed]",
      "text/plain": [
       "<Figure size 432x288 with 1 Axes>"
      ]
     },
     "metadata": {
      "needs_background": "light"
     },
     "output_type": "display_data"
    }
   ],
   "source": [
    "labels= [\"appliances\",\"business\",\"car_new\",\"car_used\",\"education\",\"furniture\",\"other\",\"radio_tv\",\"repairs\",\"retraining\",\"vacation\"]\n",
    "labels1 = [\"Elect\",\"Neg\",\"autn\",\"autu\",\"edu\",\"mueb\",\"otro\",\"tv\",\"repa\",\"retrng\",\"vacc\",]\n",
    "no_risk = [274,94,827,608,97,569,40,429,123,122,147]\n",
    "risk    = [287,52,118,200,70,284,73,326,160,42,58]\n",
    "width = 0.80\n",
    "\n",
    "\n",
    "fig,ax=plt.subplots()\n",
    "ax.bar(labels1,no_risk, width, label=\"No riesgoso\")\n",
    "ax.bar(labels1,risk, width, label=\"Riesgoso\", bottom=no_risk)\n",
    "\n",
    "ax.set_title(\"Relacion:Finalidad del Crédito y Riesgo\")\n",
    "ax.legend()\n",
    "plt.show()\n"
   ]
  },
  {
   "cell_type": "markdown",
   "id": "336ebbe4",
   "metadata": {},
   "source": [
    "### LOANAMOUNT"
   ]
  },
  {
   "cell_type": "code",
   "execution_count": 6,
   "id": "c0bc7189",
   "metadata": {},
   "outputs": [
    {
     "data": {
      "image/png": "[encoded data removed]",
      "text/plain": [
       "<Figure size 720x360 with 1 Axes>"
      ]
     },
     "metadata": {
      "needs_background": "light"
     },
     "output_type": "display_data"
    }
   ],
   "source": [
    "sns.displot(data[\"LOANAMOUNT\"], bins=15, aspect=2)\n",
    "plt.title(\"Monto de Credito\")\n",
    "\n",
    "media = statistics.median(data[\"LOANAMOUNT\"])\n",
    "plt.axvline(media, label=\"Credito Medio\", color=\"red\")\n",
    "\n",
    "plt.legend()\n",
    "plt.show()"
   ]
  },
  {
   "cell_type": "code",
   "execution_count": 7,
   "id": "716259ea",
   "metadata": {},
   "outputs": [
    {
     "data": {
      "text/plain": [
       "count     5000.000000\n",
       "mean      3480.145000\n",
       "std       2488.232783\n",
       "min        250.000000\n",
       "25%       1326.750000\n",
       "50%       3238.500000\n",
       "75%       5355.000000\n",
       "max      11676.000000\n",
       "Name: LOANAMOUNT, dtype: float64"
      ]
     },
     "execution_count": 7,
     "metadata": {},
     "output_type": "execute_result"
    }
   ],
   "source": [
    "data[\"LOANAMOUNT\"].describe()"
   ]
  },
  {
   "cell_type": "code",
   "execution_count": 8,
   "id": "3a1da427",
   "metadata": {
    "scrolled": true
   },
   "outputs": [
    {
     "data": {
      "text/plain": [
       "Text(0.5, 1.0, 'Boxplot del Credito')"
      ]
     },
     "execution_count": 8,
     "metadata": {},
     "output_type": "execute_result"
    },
    {
     "data": {
      "image/png": "[encoded data removed]",
      "text/plain": [
       "<Figure size 432x288 with 1 Axes>"
      ]
     },
     "metadata": {},
     "output_type": "display_data"
    }
   ],
   "source": [
    "bx1 = data[\"LOANAMOUNT\"]\n",
    "plt.style.use(\"ggplot\")\n",
    "plt.boxplot(bx1)\n",
    "plt.title(\"Boxplot del Credito\")"
   ]
  },
  {
   "cell_type": "code",
   "execution_count": 9,
   "id": "34eebd90",
   "metadata": {},
   "outputs": [
    {
     "data": {
      "text/html": [
       "<div>\n",
       "<style scoped>\n",
       "    .dataframe tbody tr th:only-of-type {\n",
       "        vertical-align: middle;\n",
       "    }\n",
       "\n",
       "    .dataframe tbody tr th {\n",
       "        vertical-align: top;\n",
       "    }\n",
       "\n",
       "    .dataframe thead th {\n",
       "        text-align: right;\n",
       "    }\n",
       "</style>\n",
       "<table border=\"1\" class=\"dataframe\">\n",
       "  <thead>\n",
       "    <tr style=\"text-align: right;\">\n",
       "      <th></th>\n",
       "      <th>LOANAMOUNT</th>\n",
       "      <th>RISK2</th>\n",
       "    </tr>\n",
       "  </thead>\n",
       "  <tbody>\n",
       "    <tr>\n",
       "      <th>0</th>\n",
       "      <td>1889</td>\n",
       "      <td>0</td>\n",
       "    </tr>\n",
       "    <tr>\n",
       "      <th>1</th>\n",
       "      <td>462</td>\n",
       "      <td>0</td>\n",
       "    </tr>\n",
       "    <tr>\n",
       "      <th>2</th>\n",
       "      <td>250</td>\n",
       "      <td>0</td>\n",
       "    </tr>\n",
       "    <tr>\n",
       "      <th>3</th>\n",
       "      <td>3693</td>\n",
       "      <td>0</td>\n",
       "    </tr>\n",
       "    <tr>\n",
       "      <th>4</th>\n",
       "      <td>6235</td>\n",
       "      <td>1</td>\n",
       "    </tr>\n",
       "    <tr>\n",
       "      <th>...</th>\n",
       "      <td>...</td>\n",
       "      <td>...</td>\n",
       "    </tr>\n",
       "    <tr>\n",
       "      <th>995</th>\n",
       "      <td>6041</td>\n",
       "      <td>1</td>\n",
       "    </tr>\n",
       "    <tr>\n",
       "      <th>996</th>\n",
       "      <td>250</td>\n",
       "      <td>0</td>\n",
       "    </tr>\n",
       "    <tr>\n",
       "      <th>997</th>\n",
       "      <td>6981</td>\n",
       "      <td>1</td>\n",
       "    </tr>\n",
       "    <tr>\n",
       "      <th>998</th>\n",
       "      <td>2705</td>\n",
       "      <td>0</td>\n",
       "    </tr>\n",
       "    <tr>\n",
       "      <th>999</th>\n",
       "      <td>250</td>\n",
       "      <td>0</td>\n",
       "    </tr>\n",
       "  </tbody>\n",
       "</table>\n",
       "<p>1000 rows × 2 columns</p>\n",
       "</div>"
      ],
      "text/plain": [
       "     LOANAMOUNT  RISK2\n",
       "0          1889      0\n",
       "1           462      0\n",
       "2           250      0\n",
       "3          3693      0\n",
       "4          6235      1\n",
       "..          ...    ...\n",
       "995        6041      1\n",
       "996         250      0\n",
       "997        6981      1\n",
       "998        2705      0\n",
       "999         250      0\n",
       "\n",
       "[1000 rows x 2 columns]"
      ]
     },
     "execution_count": 9,
     "metadata": {},
     "output_type": "execute_result"
    }
   ],
   "source": [
    "data_r = pd.read_excel(\"x_y.xlsx\")\n",
    "data_r"
   ]
  },
  {
   "cell_type": "code",
   "execution_count": 10,
   "id": "e13610ab",
   "metadata": {},
   "outputs": [
    {
     "data": {
      "image/png": "[encoded data removed]",
      "text/plain": [
       "<Figure size 432x288 with 1 Axes>"
      ]
     },
     "metadata": {},
     "output_type": "display_data"
    }
   ],
   "source": [
    "X1 = data_r[\"LOANAMOUNT\"]\n",
    "y = data_r[\"RISK2\"]\n",
    "\n",
    "plt.scatter(X1,y)\n",
    "plt.xlabel(\"Monto de Crédito\", fontsize = 20)\n",
    "plt.ylabel(\"Riesgo\", fontsize = 20)\n",
    "plt.show()"
   ]
  },
  {
   "cell_type": "code",
   "execution_count": 11,
   "id": "6cd1a34f",
   "metadata": {},
   "outputs": [
    {
     "data": {
      "text/html": [
       "<table class=\"simpletable\">\n",
       "<caption>OLS Regression Results</caption>\n",
       "<tr>\n",
       "  <th>Dep. Variable:</th>          <td>RISK2</td>      <th>  R-squared:         </th> <td>   0.189</td>\n",
       "</tr>\n",
       "<tr>\n",
       "  <th>Model:</th>                   <td>OLS</td>       <th>  Adj. R-squared:    </th> <td>   0.188</td>\n",
       "</tr>\n",
       "<tr>\n",
       "  <th>Method:</th>             <td>Least Squares</td>  <th>  F-statistic:       </th> <td>   233.0</td>\n",
       "</tr>\n",
       "<tr>\n",
       "  <th>Date:</th>             <td>Wed, 14 Jul 2021</td> <th>  Prob (F-statistic):</th> <td>1.96e-47</td>\n",
       "</tr>\n",
       "<tr>\n",
       "  <th>Time:</th>                 <td>10:51:51</td>     <th>  Log-Likelihood:    </th> <td> -559.46</td>\n",
       "</tr>\n",
       "<tr>\n",
       "  <th>No. Observations:</th>      <td>  1000</td>      <th>  AIC:               </th> <td>   1123.</td>\n",
       "</tr>\n",
       "<tr>\n",
       "  <th>Df Residuals:</th>          <td>   998</td>      <th>  BIC:               </th> <td>   1133.</td>\n",
       "</tr>\n",
       "<tr>\n",
       "  <th>Df Model:</th>              <td>     1</td>      <th>                     </th>     <td> </td>   \n",
       "</tr>\n",
       "<tr>\n",
       "  <th>Covariance Type:</th>      <td>nonrobust</td>    <th>                     </th>     <td> </td>   \n",
       "</tr>\n",
       "</table>\n",
       "<table class=\"simpletable\">\n",
       "<tr>\n",
       "       <td></td>         <th>coef</th>     <th>std err</th>      <th>t</th>      <th>P>|t|</th>  <th>[0.025</th>    <th>0.975]</th>  \n",
       "</tr>\n",
       "<tr>\n",
       "  <th>const</th>      <td>    0.0481</td> <td>    0.023</td> <td>    2.107</td> <td> 0.035</td> <td>    0.003</td> <td>    0.093</td>\n",
       "</tr>\n",
       "<tr>\n",
       "  <th>LOANAMOUNT</th> <td> 8.018e-05</td> <td> 5.25e-06</td> <td>   15.264</td> <td> 0.000</td> <td> 6.99e-05</td> <td> 9.05e-05</td>\n",
       "</tr>\n",
       "</table>\n",
       "<table class=\"simpletable\">\n",
       "<tr>\n",
       "  <th>Omnibus:</th>       <td>152.215</td> <th>  Durbin-Watson:     </th> <td>   2.013</td>\n",
       "</tr>\n",
       "<tr>\n",
       "  <th>Prob(Omnibus):</th> <td> 0.000</td>  <th>  Jarque-Bera (JB):  </th> <td>  72.580</td>\n",
       "</tr>\n",
       "<tr>\n",
       "  <th>Skew:</th>          <td> 0.494</td>  <th>  Prob(JB):          </th> <td>1.74e-16</td>\n",
       "</tr>\n",
       "<tr>\n",
       "  <th>Kurtosis:</th>      <td> 2.126</td>  <th>  Cond. No.          </th> <td>7.40e+03</td>\n",
       "</tr>\n",
       "</table><br/><br/>Notes:<br/>[1] Standard Errors assume that the covariance matrix of the errors is correctly specified.<br/>[2] The condition number is large, 7.4e+03. This might indicate that there are<br/>strong multicollinearity or other numerical problems."
      ],
      "text/plain": [
       "<class 'statsmodels.iolib.summary.Summary'>\n",
       "\"\"\"\n",
       "                            OLS Regression Results                            \n",
       "==============================================================================\n",
       "Dep. Variable:                  RISK2   R-squared:                       0.189\n",
       "Model:                            OLS   Adj. R-squared:                  0.188\n",
       "Method:                 Least Squares   F-statistic:                     233.0\n",
       "Date:                Wed, 14 Jul 2021   Prob (F-statistic):           1.96e-47\n",
       "Time:                        10:51:51   Log-Likelihood:                -559.46\n",
       "No. Observations:                1000   AIC:                             1123.\n",
       "Df Residuals:                     998   BIC:                             1133.\n",
       "Df Model:                           1                                         \n",
       "Covariance Type:            nonrobust                                         \n",
       "==============================================================================\n",
       "                 coef    std err          t      P>|t|      [0.025      0.975]\n",
       "------------------------------------------------------------------------------\n",
       "const          0.0481      0.023      2.107      0.035       0.003       0.093\n",
       "LOANAMOUNT  8.018e-05   5.25e-06     15.264      0.000    6.99e-05    9.05e-05\n",
       "==============================================================================\n",
       "Omnibus:                      152.215   Durbin-Watson:                   2.013\n",
       "Prob(Omnibus):                  0.000   Jarque-Bera (JB):               72.580\n",
       "Skew:                           0.494   Prob(JB):                     1.74e-16\n",
       "Kurtosis:                       2.126   Cond. No.                     7.40e+03\n",
       "==============================================================================\n",
       "\n",
       "Notes:\n",
       "[1] Standard Errors assume that the covariance matrix of the errors is correctly specified.\n",
       "[2] The condition number is large, 7.4e+03. This might indicate that there are\n",
       "strong multicollinearity or other numerical problems.\n",
       "\"\"\""
      ]
     },
     "execution_count": 11,
     "metadata": {},
     "output_type": "execute_result"
    }
   ],
   "source": [
    "x = sm.add_constant(X1) \n",
    "results = sm.OLS(y,x).fit() \n",
    "results.summary()"
   ]
  },
  {
   "cell_type": "markdown",
   "id": "218b9e54",
   "metadata": {},
   "source": [
    "### EXISTINGSAVINGS"
   ]
  },
  {
   "cell_type": "code",
   "execution_count": 12,
   "id": "4cf03d85",
   "metadata": {
    "scrolled": true
   },
   "outputs": [
    {
     "data": {
      "image/png": "[encoded data removed]",
      "text/plain": [
       "<Figure size 540x360 with 1 Axes>"
      ]
     },
     "metadata": {},
     "output_type": "display_data"
    }
   ],
   "source": [
    "sns.displot(data[\"EXISTINGSAVINGS\"], aspect=1.5)\n",
    "plt.title(\"Ahorros Existentes\")\n",
    "\n",
    "plt.ylabel(\"N° Observaciones\")\n",
    "plt.show()"
   ]
  },
  {
   "cell_type": "code",
   "execution_count": 13,
   "id": "c18a4bb4",
   "metadata": {},
   "outputs": [
    {
     "data": {
      "text/plain": [
       "count         5000\n",
       "unique           5\n",
       "top       less_100\n",
       "freq          1856\n",
       "Name: EXISTINGSAVINGS, dtype: object"
      ]
     },
     "execution_count": 13,
     "metadata": {},
     "output_type": "execute_result"
    }
   ],
   "source": [
    "data[\"EXISTINGSAVINGS\"].describe()"
   ]
  },
  {
   "cell_type": "code",
   "execution_count": 14,
   "id": "c7d79039",
   "metadata": {},
   "outputs": [
    {
     "data": {
      "image/png": "[encoded data removed]",
      "text/plain": [
       "<Figure size 432x288 with 1 Axes>"
      ]
     },
     "metadata": {},
     "output_type": "display_data"
    }
   ],
   "source": [
    "labels1 = [\"100-500\",\"500-1000\",\">1000\",\"<100\",\"descon\"]\n",
    "no_risk = [761,561,265,1600,143]\n",
    "risk    = [372,517,293,256,232]\n",
    "width = 0.80\n",
    "\n",
    "\n",
    "fig,ax=plt.subplots()\n",
    "ax.bar(labels1,no_risk, width, label=\"No riesgoso\")\n",
    "ax.bar(labels1,risk, width, label=\"Riesgoso\", bottom=no_risk)\n",
    "\n",
    "ax.set_title(\"Relacion: Ahorros Existentes y Riesgo\")\n",
    "ax.legend()\n",
    "plt.show()"
   ]
  },
  {
   "cell_type": "markdown",
   "id": "311dc122",
   "metadata": {},
   "source": [
    "### EMPLOYMENTDURATION"
   ]
  },
  {
   "cell_type": "code",
   "execution_count": 15,
   "id": "3a84d567",
   "metadata": {},
   "outputs": [
    {
     "data": {
      "image/png": "[encoded data removed]",
      "text/plain": [
       "<Figure size 720x360 with 1 Axes>"
      ]
     },
     "metadata": {},
     "output_type": "display_data"
    }
   ],
   "source": [
    "sns.displot(data[\"EMPLOYMENTDURATION\"], aspect=2)\n",
    "plt.title(\"Duración en el Empleo\")\n",
    "\n",
    "plt.ylabel(\"N° Observaciones\")\n",
    "plt.show()"
   ]
  },
  {
   "cell_type": "code",
   "execution_count": 16,
   "id": "0ee7de51",
   "metadata": {},
   "outputs": [
    {
     "data": {
      "text/plain": [
       "count       5000\n",
       "unique         5\n",
       "top       1_to_4\n",
       "freq        1470\n",
       "Name: EMPLOYMENTDURATION, dtype: object"
      ]
     },
     "execution_count": 16,
     "metadata": {},
     "output_type": "execute_result"
    }
   ],
   "source": [
    "data[\"EMPLOYMENTDURATION\"].describe()"
   ]
  },
  {
   "cell_type": "code",
   "execution_count": 17,
   "id": "a7af38ec",
   "metadata": {},
   "outputs": [
    {
     "data": {
      "image/png": "[encoded data removed]",
      "text/plain": [
       "<Figure size 432x288 with 1 Axes>"
      ]
     },
     "metadata": {},
     "output_type": "display_data"
    }
   ],
   "source": [
    "labels1 = [\"Desemp\",\"<1\",\"1-4\",\"4-7\",\">7\"]\n",
    "no_risk = [287,830,1119,824,270]\n",
    "risk    = [9,74,351,576,660]\n",
    "width = 0.80\n",
    "\n",
    "\n",
    "fig,ax=plt.subplots()\n",
    "ax.bar(labels1,no_risk, width, label=\"No riesgoso\")\n",
    "ax.bar(labels1,risk, width, label=\"Riesgoso\", bottom=no_risk)\n",
    "\n",
    "ax.set_title(\"Relacion:Tiempo de Empleo y Riesgo\")\n",
    "ax.legend()\n",
    "plt.show()"
   ]
  }
 ],
 "metadata": {
  "kernelspec": {
   "display_name": "Python 3",
   "language": "python",
   "name": "python3"
  },
  "language_info": {
   "codemirror_mode": {
    "name": "ipython",
    "version": 3
   },
   "file_extension": ".py",
   "mimetype": "text/x-python",
   "name": "python",
   "nbconvert_exporter": "python",
   "pygments_lexer": "ipython3",
   "version": "3.8.8"
  }
 },
 "nbformat": 4,
 "nbformat_minor": 5
}
